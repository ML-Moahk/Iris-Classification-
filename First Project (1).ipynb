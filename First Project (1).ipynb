{
 "cells": [
  {
   "cell_type": "code",
   "execution_count": 1,
   "id": "26b836a8-6923-4e2c-8896-7f4f1ace400b",
   "metadata": {},
   "outputs": [],
   "source": [
    "#import all libraries \n",
    "import numpy as np\n",
    "import pandas as pd\n",
    "import matplotlib.pyplot as plt\n",
    "from sklearn.datasets import load_iris\n",
    "\n"
   ]
  },
  {
   "cell_type": "code",
   "execution_count": 2,
   "id": "ea862efc-28c2-42b2-8987-0149993589f6",
   "metadata": {},
   "outputs": [
    {
     "name": "stdout",
     "output_type": "stream",
     "text": [
      "   sepal length (cm)  sepal width (cm)  petal length (cm)  petal width (cm)\n",
      "0                5.1               3.5                1.4               0.2\n",
      "1                4.9               3.0                1.4               0.2\n",
      "2                4.7               3.2                1.3               0.2\n",
      "3                4.6               3.1                1.5               0.2\n",
      "4                5.0               3.6                1.4               0.2\n"
     ]
    }
   ],
   "source": [
    "iris = load_iris()\n",
    "#convert the feature data to dataframe so that we can perform pandas operations on it \n",
    "df=pd.DataFrame(iris.data, columns= iris.feature_names)\n",
    "print (df.head())"
   ]
  },
  {
   "cell_type": "code",
   "execution_count": 3,
   "id": "a6a72c05-25b8-4fee-b6d0-f3169bb4a556",
   "metadata": {},
   "outputs": [
    {
     "name": "stdout",
     "output_type": "stream",
     "text": [
      "   sepal length (cm)  sepal width (cm)  petal length (cm)  petal width (cm)  \\\n",
      "0                5.1               3.5                1.4               0.2   \n",
      "1                4.9               3.0                1.4               0.2   \n",
      "2                4.7               3.2                1.3               0.2   \n",
      "3                4.6               3.1                1.5               0.2   \n",
      "4                5.0               3.6                1.4               0.2   \n",
      "\n",
      "   species  \n",
      "0        0  \n",
      "1        0  \n",
      "2        0  \n",
      "3        0  \n",
      "4        0  \n"
     ]
    }
   ],
   "source": [
    "df['species']= iris.target\n",
    "print(df.head())\n"
   ]
  },
  {
   "cell_type": "code",
   "execution_count": 4,
   "id": "f5af6f28-2c3e-4114-8cb4-4ba365138027",
   "metadata": {},
   "outputs": [],
   "source": [
    "#now we start data preprocessing to ready our data for modelling. \n",
    "#we are going to normalise the data using StandardScalar because some data have very large values\n",
    "#and we dont want the algorithm to favor them"
   ]
  },
  {
   "cell_type": "code",
   "execution_count": 5,
   "id": "de571199-d0f1-4407-8684-55f5f336b70e",
   "metadata": {},
   "outputs": [],
   "source": [
    "from sklearn.model_selection import train_test_split\n",
    "from sklearn.preprocessing import StandardScaler \n",
    "\n",
    "#seperate the feature and target\n",
    "X= df.drop('species', axis=1)\n",
    "y= df['species']\n",
    "\n",
    "#split the data set into 80% and 20% to train and test the model \n",
    "X_train, X_test, y_train, y_test = train_test_split(X, y, test_size=0.2, random_state=42)\n",
    "\n",
    "#standardize the data \n",
    "scaler = StandardScaler()\n",
    "X_train = scaler.fit_transform(X_train)\n",
    "X_test = scaler.transform(X_test)"
   ]
  },
  {
   "cell_type": "code",
   "execution_count": 6,
   "id": "8215a81b-44e7-42de-aa43-a5f54c33d597",
   "metadata": {},
   "outputs": [],
   "source": [
    "#now we train a simple model \n",
    "from sklearn.linear_model import LogisticRegression \n",
    "from sklearn.metrics import accuracy_score \n",
    "\n",
    "#let us initialize the model \n",
    "model = LogisticRegression()\n",
    "\n",
    "#train the model using the initialized model \n",
    "model.fit(X_train, y_train)\n",
    "\n",
    "#make predictions \n",
    "y_pred = model.predict(X_test)\n",
    "\n"
   ]
  },
  {
   "cell_type": "code",
   "execution_count": 7,
   "id": "3d44e8a7-0197-4097-987a-02db871b9954",
   "metadata": {},
   "outputs": [
    {
     "name": "stdout",
     "output_type": "stream",
     "text": [
      "The accuracy is 100.00%\n"
     ]
    }
   ],
   "source": [
    "#Evaluate the model using accuracy score by comparing y_test and y_pred \n",
    "LR_accuracy = accuracy_score(y_test, y_pred)\n",
    "print(f\"The accuracy is {LR_accuracy*100:.2f}%\")"
   ]
  },
  {
   "cell_type": "code",
   "execution_count": 8,
   "id": "d9187628-2d01-4941-a8b5-e231239dc130",
   "metadata": {},
   "outputs": [
    {
     "name": "stdout",
     "output_type": "stream",
     "text": [
      "The KNN accuracy is 100.00%\n"
     ]
    }
   ],
   "source": [
    "# we are going to train the model using KNearest Neighbor \n",
    "from sklearn.neighbors import KNeighborsClassifier\n",
    "from sklearn.metrics import accuracy_score\n",
    "\n",
    "#initialize the model and train \n",
    "knn = KNeighborsClassifier(n_neighbors=5) #(n_neighbors is the numbe rof neighbors)\n",
    "\n",
    "knn.fit(X_train, y_train)\n",
    "\n",
    "y_pred = knn.predict(X_test)\n",
    "\n",
    "KNN_accuracy = accuracy_score(y_test, y_pred)\n",
    "\n",
    "print(f\"The KNN accuracy is {KNN_accuracy*100:.2f}%\")\n"
   ]
  },
  {
   "cell_type": "code",
   "execution_count": 9,
   "id": "8a491f3e-6896-4a5b-8427-1ba254b9acc4",
   "metadata": {},
   "outputs": [
    {
     "name": "stdout",
     "output_type": "stream",
     "text": [
      "The SVM accuracy is 96.67%\n"
     ]
    }
   ],
   "source": [
    "#Train Model with SVM\n",
    "from sklearn.svm import SVC \n",
    "from sklearn.metrics import accuracy_score \n",
    "svm= SVC(kernel=\"linear\")\n",
    "\n",
    "\n",
    "svm.fit(X_train, y_train)\n",
    "y_pred = svm.predict(X_test)\n",
    "SVM_accuracy = accuracy_score (y_test, y_pred)\n",
    "\n",
    "print(f\"The SVM accuracy is {SVM_accuracy*100:.2f}%\")"
   ]
  },
  {
   "cell_type": "code",
   "execution_count": 10,
   "id": "c99442ad-6126-45b5-a546-93164a8c760b",
   "metadata": {},
   "outputs": [
    {
     "name": "stdout",
     "output_type": "stream",
     "text": [
      "The Random Forest accuracy is 100.00%\n"
     ]
    }
   ],
   "source": [
    "#Train Model Using Random Forest \n",
    "from sklearn.ensemble import RandomForestClassifier\n",
    "from sklearn.metrics import accuracy_score \n",
    "\n",
    "#initialize Model \n",
    "rf = RandomForestClassifier(n_estimators=100)#n_estimators means the Random Forest will build\n",
    "#100 decision trees and combine their results for the final prediction.\n",
    "\n",
    "#Train Model \n",
    "rf.fit(X_train, y_train)\n",
    "y_pred = rf.predict(X_test)\n",
    "\n",
    "RF_accuracy = accuracy_score(y_test, y_pred)\n",
    "\n",
    "print(f\"The Random Forest accuracy is {RF_accuracy*100:.2f}%\")\n",
    "\n"
   ]
  },
  {
   "cell_type": "code",
   "execution_count": 11,
   "id": "0b518cf3-b48c-4c57-9e8c-84520ce5da08",
   "metadata": {},
   "outputs": [
    {
     "name": "stdout",
     "output_type": "stream",
     "text": [
      "The Gradient Boost accuracy is 100.00%\n"
     ]
    }
   ],
   "source": [
    "#Train Model using Gradient Boost Classifier \n",
    "from sklearn.ensemble import GradientBoostingClassifier\n",
    "from sklearn.metrics import accuracy_score\n",
    "\n",
    "#initialize Model \n",
    "gb = GradientBoostingClassifier(n_estimators=100, learning_rate=0.1)# n_estimators defines the number of boosting \n",
    "#stages,and learning_rate controls the contribution of each tree\n",
    "\n",
    "#Train Model \n",
    "gb.fit(X_train, y_train)\n",
    "y_pred = gb.predict(X_test)\n",
    "\n",
    "GB_accuracy = accuracy_score(y_test, y_pred)\n",
    "\n",
    "print(f\"The Gradient Boost accuracy is {GB_accuracy*100:.2f}%\")"
   ]
  },
  {
   "cell_type": "code",
   "execution_count": 12,
   "id": "47ba0b7b-11c2-4743-9735-0377f6ad1d67",
   "metadata": {},
   "outputs": [],
   "source": [
    "Report = pd.DataFrame({\n",
    "    'Model': ['Logistic Regression', 'KNN','SVM', 'Random Forest', 'Gradient Boost'],\n",
    "    'Accuracy': [LR_accuracy, KNN_accuracy, SVM_accuracy, RF_accuracy, GB_accuracy],\n",
    "    \n",
    "})"
   ]
  },
  {
   "cell_type": "code",
   "execution_count": 13,
   "id": "4e307286-87fd-4e2d-ae61-46f08d685c06",
   "metadata": {},
   "outputs": [
    {
     "name": "stdout",
     "output_type": "stream",
     "text": [
      "                 Model  Accuracy\n",
      "0  Logistic Regression  1.000000\n",
      "1                  KNN  1.000000\n",
      "2                  SVM  0.966667\n",
      "3        Random Forest  1.000000\n",
      "4       Gradient Boost  1.000000\n"
     ]
    }
   ],
   "source": [
    "print(Report)\n"
   ]
  },
  {
   "cell_type": "markdown",
   "id": "866110ad-2012-45a0-be93-832c6b1f0916",
   "metadata": {},
   "source": [
    "The above project shows differet Machine learning models, what I have been able to observe here is that we can\n",
    "use different models to train our data and some times we get similar results and some times we get diffferent \n",
    "results. Getting a 100% accuracy on different models might be a sign of overfitting so there is need to test\n",
    "the model on new datatsets before deploying. for SVM can change the kernel to see if we woulg get a different result \n",
    "\n"
   ]
  },
  {
   "cell_type": "markdown",
   "id": "f604c7b9-dd82-4b16-adc2-d05e4d22d5af",
   "metadata": {},
   "source": []
  },
  {
   "cell_type": "code",
   "execution_count": 14,
   "id": "3a09bafd-1055-4201-b1cd-42761b010f2c",
   "metadata": {},
   "outputs": [],
   "source": [
    "#HYPERPARAMETER TUNING: this will improve the model performance by fiding the best combination of \n",
    "#hyperparameters. I will be using Gridsearch CV \n",
    "\n",
    "from sklearn.model_selection import GridSearchCV\n",
    "from sklearn.ensemble import RandomForestClassifier \n",
    "rf = RandomForestClassifier(n_estimators=100)\n",
    "\n",
    "\n",
    "#now let us define our hyperparameters \n",
    "param_grid = {\n",
    "    'n_estimators': [100,200,300],\n",
    "    'max_depth': [None, 20, 30],\n",
    "    'min_samples_split': [2,5,10],\n",
    "    'min_samples_leaf': [1,2,4]\n",
    "}\n",
    "\n",
    "\n",
    "\n",
    "\n"
   ]
  },
  {
   "cell_type": "code",
   "execution_count": 15,
   "id": "6dd980dd-3bbc-4e25-bc66-119c2fd54c0e",
   "metadata": {},
   "outputs": [
    {
     "name": "stdout",
     "output_type": "stream",
     "text": [
      "Fitting 5 folds for each of 81 candidates, totalling 405 fits\n",
      "The accuracy is: 100.00%\n"
     ]
    }
   ],
   "source": [
    "#Now we perform grid search \n",
    "\n",
    "grid_search = GridSearchCV( estimator=rf, param_grid=param_grid, cv=5, n_jobs=-1, verbose = 2)\n",
    "grid_search.fit (X_train, y_train)\n",
    "\n",
    "#let us evaluate the best model \n",
    "best_rf = grid_search.best_estimator_\n",
    "y_pred = best_rf.predict(X_test)\n",
    "\n",
    "gaccuracy = accuracy_score(y_test, y_pred)\n",
    "print(f\"The accuracy is: {gaccuracy * 100:.2f}%\")\n",
    "\n"
   ]
  },
  {
   "cell_type": "code",
   "execution_count": 16,
   "id": "80910bd1-edd0-41cb-b5d9-2975b1c930e6",
   "metadata": {},
   "outputs": [],
   "source": [
    "#After cross validation we are still getting a %100, this could be beacuse the data set is small and the model\n",
    "#has memorized the data set. "
   ]
  },
  {
   "cell_type": "code",
   "execution_count": 19,
   "id": "939df998-78e9-4e9d-b13d-2e03d5aa6d61",
   "metadata": {},
   "outputs": [
    {
     "data": {
      "text/plain": [
       "['best_rf.pkl']"
      ]
     },
     "execution_count": 19,
     "metadata": {},
     "output_type": "execute_result"
    }
   ],
   "source": [
    "#I am going to deploy the model on streamlit\n",
    "\n",
    "#first we save the model \n",
    "import joblib\n",
    "joblib.dump(best_rf, 'best_rf.pkl')\n"
   ]
  },
  {
   "cell_type": "code",
   "execution_count": 21,
   "id": "78529356-a2ef-48d7-8c5f-57f7f0b0a259",
   "metadata": {},
   "outputs": [
    {
     "name": "stderr",
     "output_type": "stream",
     "text": [
      "2024-10-24 21:17:31.970 WARNING streamlit.runtime.scriptrunner_utils.script_run_context: Thread 'MainThread': missing ScriptRunContext! This warning can be ignored when running in bare mode.\n",
      "2024-10-24 21:17:32.900 \n",
      "  \u001b[33m\u001b[1mWarning:\u001b[0m to view this Streamlit app on a browser, run it with the following\n",
      "  command:\n",
      "\n",
      "    streamlit run C:\\Users\\Owner\\ML\\Lib\\site-packages\\ipykernel_launcher.py [ARGUMENTS]\n",
      "2024-10-24 21:17:32.902 Thread 'MainThread': missing ScriptRunContext! This warning can be ignored when running in bare mode.\n",
      "2024-10-24 21:17:32.903 Thread 'MainThread': missing ScriptRunContext! This warning can be ignored when running in bare mode.\n",
      "2024-10-24 21:17:32.905 Thread 'MainThread': missing ScriptRunContext! This warning can be ignored when running in bare mode.\n",
      "2024-10-24 21:17:32.907 Thread 'MainThread': missing ScriptRunContext! This warning can be ignored when running in bare mode.\n",
      "2024-10-24 21:17:32.909 Thread 'MainThread': missing ScriptRunContext! This warning can be ignored when running in bare mode.\n",
      "2024-10-24 21:17:32.910 Session state does not function when running a script without `streamlit run`\n",
      "2024-10-24 21:17:32.912 Thread 'MainThread': missing ScriptRunContext! This warning can be ignored when running in bare mode.\n",
      "2024-10-24 21:17:32.913 Thread 'MainThread': missing ScriptRunContext! This warning can be ignored when running in bare mode.\n",
      "2024-10-24 21:17:32.914 Thread 'MainThread': missing ScriptRunContext! This warning can be ignored when running in bare mode.\n",
      "2024-10-24 21:17:32.916 Thread 'MainThread': missing ScriptRunContext! This warning can be ignored when running in bare mode.\n",
      "2024-10-24 21:17:32.917 Thread 'MainThread': missing ScriptRunContext! This warning can be ignored when running in bare mode.\n",
      "2024-10-24 21:17:32.920 Thread 'MainThread': missing ScriptRunContext! This warning can be ignored when running in bare mode.\n",
      "2024-10-24 21:17:32.924 Thread 'MainThread': missing ScriptRunContext! This warning can be ignored when running in bare mode.\n",
      "2024-10-24 21:17:32.926 Thread 'MainThread': missing ScriptRunContext! This warning can be ignored when running in bare mode.\n",
      "2024-10-24 21:17:32.928 Thread 'MainThread': missing ScriptRunContext! This warning can be ignored when running in bare mode.\n",
      "2024-10-24 21:17:32.932 Thread 'MainThread': missing ScriptRunContext! This warning can be ignored when running in bare mode.\n",
      "2024-10-24 21:17:32.937 Thread 'MainThread': missing ScriptRunContext! This warning can be ignored when running in bare mode.\n",
      "2024-10-24 21:17:32.940 Thread 'MainThread': missing ScriptRunContext! This warning can be ignored when running in bare mode.\n",
      "2024-10-24 21:17:32.942 Thread 'MainThread': missing ScriptRunContext! This warning can be ignored when running in bare mode.\n",
      "2024-10-24 21:17:32.944 Thread 'MainThread': missing ScriptRunContext! This warning can be ignored when running in bare mode.\n",
      "2024-10-24 21:17:32.945 Thread 'MainThread': missing ScriptRunContext! This warning can be ignored when running in bare mode.\n",
      "2024-10-24 21:17:32.946 Thread 'MainThread': missing ScriptRunContext! This warning can be ignored when running in bare mode.\n",
      "2024-10-24 21:17:32.947 Thread 'MainThread': missing ScriptRunContext! This warning can be ignored when running in bare mode.\n",
      "2024-10-24 21:17:32.949 Thread 'MainThread': missing ScriptRunContext! This warning can be ignored when running in bare mode.\n",
      "2024-10-24 21:17:32.951 Thread 'MainThread': missing ScriptRunContext! This warning can be ignored when running in bare mode.\n",
      "2024-10-24 21:17:32.954 Thread 'MainThread': missing ScriptRunContext! This warning can be ignored when running in bare mode.\n",
      "2024-10-24 21:17:32.956 Thread 'MainThread': missing ScriptRunContext! This warning can be ignored when running in bare mode.\n",
      "2024-10-24 21:17:32.958 Thread 'MainThread': missing ScriptRunContext! This warning can be ignored when running in bare mode.\n",
      "2024-10-24 21:17:32.960 Thread 'MainThread': missing ScriptRunContext! This warning can be ignored when running in bare mode.\n",
      "2024-10-24 21:17:32.963 Thread 'MainThread': missing ScriptRunContext! This warning can be ignored when running in bare mode.\n",
      "2024-10-24 21:17:32.965 Thread 'MainThread': missing ScriptRunContext! This warning can be ignored when running in bare mode.\n"
     ]
    }
   ],
   "source": [
    "import streamlit as st\n",
    "model = joblib.load('best_rf.pkl')\n",
    "st.title('Iris Flower Prediction App')\n",
    "Sepal_length = st.number_input('Sepal length', min_value=0.0, max_value=10.0, value=5.0)\n",
    "Sepal_width = st.number_input('Sepal width', min_value=0.0, max_value=10.0, value=5.0)\n",
    "Petal_length = st.number_input('Petal length', min_value=0.0, max_value=10.0, value=5.0)\n",
    "Petal_width = st.number_input('Petal width', min_value=0.0, max_value=10.0, value=5.0)\n",
    "\n",
    "#I write the code for the prediction button \n",
    "if st.button('predict'):\n",
    "    features = [[Sepal_length, Sepal_width, Petal_length, Petal_width]]\n",
    "    prediction = model.predict(features)\n",
    "\n",
    "    st.write(f'The predicted species is: {prediction[0]}')\n",
    "\n"
   ]
  },
  {
   "cell_type": "code",
   "execution_count": null,
   "id": "c7036e79-dd87-432f-8cdd-cd17213fece0",
   "metadata": {},
   "outputs": [],
   "source": []
  }
 ],
 "metadata": {
  "kernelspec": {
   "display_name": "Python 3 (ipykernel)",
   "language": "python",
   "name": "python3"
  },
  "language_info": {
   "codemirror_mode": {
    "name": "ipython",
    "version": 3
   },
   "file_extension": ".py",
   "mimetype": "text/x-python",
   "name": "python",
   "nbconvert_exporter": "python",
   "pygments_lexer": "ipython3",
   "version": "3.12.0"
  }
 },
 "nbformat": 4,
 "nbformat_minor": 5
}
